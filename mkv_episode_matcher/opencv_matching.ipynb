{
 "cells": [
  {
   "cell_type": "code",
   "execution_count": 107,
   "metadata": {},
   "outputs": [],
   "source": [
    "import cv2\n",
    "import scipy\n",
    "import imageio.v3 as iio\n",
    "import os\n",
    "import imagehash\n",
    "from imagehash import ImageHash\n",
    "from PIL import Image\n",
    "import numpy as np\n",
    "import skimage.io as io\n",
    "import json\n",
    "from loguru import logger"
   ]
  },
  {
   "cell_type": "code",
   "execution_count": 108,
   "metadata": {},
   "outputs": [],
   "source": [
    "CACHE_DIR = r'C:\\Users\\Jonathan\\.mkv-episode-matcher\\cache'\n",
    "def hashes_are_similar(hash1, hash2, threshold=20):\n",
    "    \"\"\"\n",
    "    Determine if two perceptual hashes are similar within a given threshold.\n",
    "    \n",
    "    Args:\n",
    "    - hash1: The first perceptual hash to compare.\n",
    "    - hash2: The second perceptual hash to compare.\n",
    "    - threshold: The maximum allowed difference between the hashes for them to be considered similar.\n",
    "    \n",
    "    Returns:\n",
    "    - A tuple containing two values:\n",
    "        - A boolean value indicating whether the hashes are similar within the threshold.\n",
    "        - The hamming distance between the hashes.\n",
    "    \"\"\"\n",
    "    hamming_distance = abs(hash1 - hash2)\n",
    "    return hamming_distance <= threshold, hamming_distance\n",
    "def load_show_hashes(show_name,hash_type):\n",
    "    \"\"\"\n",
    "    Load the hashes for a given show from a JSON file.\n",
    "\n",
    "    Args:\n",
    "        show_name (str): The name of the show.\n",
    "\n",
    "    Returns:\n",
    "        dict: A dictionary containing the loaded hashes, or an empty dictionary if the JSON file doesn't exist.\n",
    "    \"\"\"\n",
    "    json_file_path = os.path.join(CACHE_DIR, f\"{show_name}_hashes_{hash_type}.json\")\n",
    "    if os.path.exists(json_file_path):\n",
    "        with open(json_file_path, 'r') as json_file:\n",
    "            return json.load(json_file)\n",
    "    else:\n",
    "        return {}\n",
    "\n",
    "def store_show_hashes(show_name, show_hashes,hash_type):\n",
    "    \"\"\"\n",
    "    Stores the hashes of a show in a JSON file.\n",
    "\n",
    "    Args:\n",
    "        show_name (str): The name of the show.\n",
    "        show_hashes (dict): A dictionary containing the hashes of the show.\n",
    "\n",
    "    Returns:\n",
    "        None\n",
    "    \"\"\"\n",
    "    json_file_path = os.path.join(CACHE_DIR, f\"{show_name}_hashes_{hash_type}.json\")\n",
    "    with open(json_file_path, 'w') as json_file:\n",
    "        json.dump(show_hashes, json_file, default=lambda x: x.result() if isinstance(x, ThreadPoolExecutor) else x)\n",
    "    logger.info(f\"Show hashes saved to {json_file_path}\")\n",
    "def preprocess_hashes(show_name, show_id, seasons_to_process,hash_type):\n",
    "    \"\"\"\n",
    "    Preprocess hashes by loading them from the file or fetching and hashing them if necessary.\n",
    "\n",
    "    Args:\n",
    "        show_name (str): The name of the show.\n",
    "        show_id (str): The TMDb ID of the show.\n",
    "        seasons_to_process (list): A list of season numbers to process.\n",
    "\n",
    "    Returns:\n",
    "        dict: A dictionary containing the hashes for each season.\n",
    "    \"\"\"\n",
    "    for season_number in seasons_to_process:\n",
    "        existing_hashes = load_show_hashes(show_name,hash_type)\n",
    "\n",
    "    # Convert hash values from strings back to appropriate type (e.g., integers)\n",
    "    for season, episodes in existing_hashes.items():\n",
    "        for episode_number, episode_hashes in episodes.items():\n",
    "            existing_hashes[season][episode_number] = [imagehash.hex_to_hash(hash_str) for hash_str in episode_hashes]\n",
    "    return existing_hashes"
   ]
  },
  {
   "cell_type": "code",
   "execution_count": 109,
   "metadata": {},
   "outputs": [],
   "source": [
    "# from tqdm import tqdm\n",
    "# mkv_file = r'E:\\Star Trek - The Next Generation\\Season 1\\Star Trek - The Next Generation - 000.mkv'\n",
    "# metadata = iio.immeta(mkv_file)\n",
    "# total_frames = int(metadata['fps'] * metadata['duration'])\n",
    "# filename = os.path.basename(mkv_file)\n",
    "# # calculated average and phash hashes for each frame and store them in a dictionary\n",
    "# # average_hashes = {}\n",
    "# # p_hashes = {}\n",
    "# total_iterations = total_frames // 100\n",
    "# # def calculate_hashes(frame_count):\n",
    "# #     try:\n",
    "# #         frame = iio.imread(mkv_file, index=frame_count, plugin=\"pyav\")\n",
    "# #         image = io.imread(frame)\n",
    "# #         # hash = calculate_image_hash(frame, False)\n",
    "# #         return frame_count, hash\n",
    "# #     except Exception as e:\n",
    "# #         print(f\"Error in worker process: {e}\")\n",
    "# #         raise\n",
    "\n",
    "# # for idx in tqdm(range(0, total_iterations, 10)):\n",
    "# #     frame = iio.imread(mkv_file, index=idx, plugin=\"pyav\")\n",
    "# #     # image = io.imread(frame)\n",
    "\n",
    "# # # hashes = {i: avg for i, avg in processed_images}\n"
   ]
  },
  {
   "cell_type": "code",
   "execution_count": 110,
   "metadata": {},
   "outputs": [],
   "source": [
    "def average_hash(image, hash_size=8, mean=np.mean):\n",
    "    if hash_size < 2:\n",
    "        raise ValueError('Hash size must be greater than or equal to 2')\n",
    "\n",
    "    # Convert the image to grayscale and resize it\n",
    "    gray_image = cv2.cvtColor(np.array(image), cv2.COLOR_RGB2GRAY)\n",
    "    resized_image = cv2.resize(gray_image, (hash_size, hash_size))\n",
    "\n",
    "    # Find the average pixel value\n",
    "    avg = mean(resized_image)\n",
    "\n",
    "    # Create string of bits\n",
    "    diff = resized_image > avg\n",
    "\n",
    "    # Make a hash\n",
    "    return ImageHash(diff)"
   ]
  },
  {
   "cell_type": "code",
   "execution_count": 111,
   "metadata": {},
   "outputs": [],
   "source": [
    "# # Open the .mkv file and extract frames for the first 5 minutes\n",
    "# cap = cv2.VideoCapture(mkv_file)\n",
    "# frames = []\n",
    "# hashes = []\n",
    "# frame_count = 0\n",
    "# for frame in tqdm(range(0,total_frames,10)):\n",
    "#     success, frame = cap.read()\n",
    "#     if not success:\n",
    "#         break\n",
    "\n",
    "#     # frames.append(imagehash.phash(image))\n",
    "#     hashes.append(average_hash(frame))\n",
    "#     # hashes.append(phash_faster(frame))\n",
    "# cap.release()"
   ]
  },
  {
   "cell_type": "code",
   "execution_count": 112,
   "metadata": {},
   "outputs": [],
   "source": [
    "from collections import defaultdict\n",
    "mkv_file = r'E:\\Star Trek - The Next Generation\\Season 1\\Star Trek - The Next Generation - 000.mkv'\n",
    "metadata = iio.immeta(mkv_file)\n",
    "total_frames = int(metadata['fps'] * metadata['duration'])\n",
    "filename = os.path.basename(mkv_file)\n",
    "\n",
    "frame_count = 0\n",
    "matching_episodes = defaultdict(set) \n",
    "min_hamming_distances = {}\n",
    "matched = False\n",
    "max_retries = 3\n",
    "retries = 0\n",
    "preloaded_hashes = preprocess_hashes(\"Star Trek - The Next Generation\", 1, [1], \"average\")\n",
    "season_hashes = preloaded_hashes['1']\n",
    "\n",
    "cap = cv2.VideoCapture(mkv_file)\n",
    "while frame_count < total_frames:\n",
    "    success, frame = cap.read()\n",
    "    if not success:\n",
    "        break\n",
    "\n",
    "    frame_hash = average_hash(frame)\n",
    "    for episode, hashes in season_hashes.items():\n",
    "        if episode not in min_hamming_distances:\n",
    "            min_hamming_distances[episode] = {}\n",
    "        for i, hash_val in enumerate(hashes):\n",
    "            similar, hamming_distance = hashes_are_similar(frame_hash, hash_val)\n",
    "            if i not in min_hamming_distances[episode] or hamming_distance < min_hamming_distances[episode][i]:\n",
    "                min_hamming_distances[episode][i] = hamming_distance\n",
    "\n",
    "\n",
    "    frame_count += 10"
   ]
  },
  {
   "cell_type": "code",
   "execution_count": null,
   "metadata": {},
   "outputs": [
    {
     "data": {
      "image/png": "[encoded data removed]",
      "text/plain": [
       "<Figure size 1000x600 with 1 Axes>"
      ]
     },
     "metadata": {},
     "output_type": "display_data"
    }
   ],
   "source": [
    "import pandas as pd\n",
    "import seaborn as sns\n",
    "import matplotlib.pyplot as plt\n",
    "# Convert the min_hamming_distances dictionary to a DataFrame\n",
    "df = pd.DataFrame(min_hamming_distances)\n",
    "\n",
    "# Melt the DataFrame to a long format suitable for plotting\n",
    "df_melted = df.melt(var_name='Episode', value_name='Hamming Distance')\n",
    "# Convert the 'Episode' column to numeric\n",
    "df_melted['Episode'] = pd.to_numeric(df_melted['Episode'])\n",
    "\n",
    "# Create a density plot\n",
    "plt.figure(figsize=(10, 6))\n",
    "sns.scatterplot(data=df_melted, x='Episode', y='Hamming Distance')\n",
    "\n",
    "# Set the title of the plot\n",
    "plt.title('Density Plot of Minimum Hamming Distances for Each Episode')\n",
    "\n",
    "# Show the plot\n",
    "plt.show()"
   ]
  },
  {
   "cell_type": "code",
   "execution_count": null,
   "metadata": {},
   "outputs": [
    {
     "name": "stderr",
     "output_type": "stream",
     "text": [
      "13183it [00:16, 816.88it/s]\n"
     ]
    }
   ],
   "source": [
    "# # compare the hashes with the preloaded hashes and find the most similar frames\n",
    "# similar_frames = {}\n",
    "# for idx, hash in tqdm(enumerate(hashes)):\n",
    "#     for episode_number, episode_hashes in preloaded_hashes['1'].items():\n",
    "#         for i, hash_val in enumerate(episode_hashes):\n",
    "#             similar, distance = hashes_are_similar(hash, hash_val,threshold=8)\n",
    "#             if similar:\n",
    "#                 if episode_number not in similar_frames:\n",
    "#                     similar_frames[episode_number] = {}\n",
    "#                 if i not in similar_frames[episode_number]:\n",
    "#                     similar_frames[episode_number][i] = []\n",
    "#                 similar_frames[episode_number][i].append((idx, distance))"
   ]
  },
  {
   "cell_type": "code",
   "execution_count": null,
   "metadata": {},
   "outputs": [
    {
     "data": {
      "text/plain": [
       "dict_keys(['19', '9', '11', '2', '7', '23', '8', '20', '21', '6'])"
      ]
     },
     "execution_count": 79,
     "metadata": {},
     "output_type": "execute_result"
    }
   ],
   "source": [
    "# similar_frames.keys()"
   ]
  },
  {
   "cell_type": "code",
   "execution_count": null,
   "metadata": {},
   "outputs": [
    {
     "name": "stdout",
     "output_type": "stream",
     "text": [
      "19 {3: [(64, 8), (66, 8), (68, 8), (70, 8), (71, 7), (72, 7), (73, 6), (74, 6), (75, 6), (76, 8), (77, 6)]}\n",
      "9 {4: [(69, 8), (86, 8), (87, 8)]}\n",
      "11 {1: [(86, 8), (87, 8), (92, 8), (97, 7), (99, 8), (3309, 8), (6939, 8), (6942, 8)]}\n",
      "2 {12: [(150, 8), (151, 8), (152, 7), (153, 7), (154, 6), (155, 8), (156, 8), (157, 8), (489, 8), (6864, 8), (6931, 7), (6935, 8), (6937, 8), (6941, 8), (7204, 7), (7444, 7)]}\n",
      "7 {9: [(2331, 8), (2333, 8), (2334, 8), (2335, 8), (2336, 8), (2338, 8), (2340, 8), (2341, 8), (2342, 7), (2343, 7), (2344, 8), (2345, 7), (2346, 7), (2347, 7), (2348, 8), (2350, 8), (2352, 8), (2353, 8), (2354, 8), (2355, 8), (2356, 8), (2357, 8), (2358, 8), (2359, 8), (2360, 8), (2361, 8), (2362, 8), (2363, 8), (2364, 8), (2365, 8), (2379, 8), (2380, 8), (2381, 8), (2384, 8), (2385, 8), (2386, 8), (2387, 8), (2388, 8), (2389, 8), (2390, 8), (2391, 8), (2392, 8), (2393, 8), (2394, 8), (2395, 8), (2396, 8), (2397, 8), (2398, 8), (2399, 8), (2400, 8), (2401, 8), (2402, 8), (2403, 8), (2404, 8), (2405, 8), (2406, 8), (2407, 7), (2408, 7), (2409, 8), (2410, 8), (2411, 8), (2412, 8), (2413, 8), (2414, 8), (2415, 8), (2418, 8), (2419, 8), (2420, 8), (2425, 8), (2426, 8), (2427, 8), (2428, 8), (2429, 8), (2430, 8), (2431, 8), (2432, 8), (2434, 8), (2435, 8), (2436, 8), (2437, 8), (2438, 8), (2439, 8), (2440, 8), (2441, 8), (2442, 8), (2443, 7), (2444, 8), (2445, 8), (2446, 8), (2447, 8), (2448, 8), (2449, 7), (2450, 8), (2451, 8), (2452, 8), (2453, 8), (2454, 8), (2455, 8), (2456, 8), (2457, 8), (2458, 8), (2459, 8), (2460, 8), (2461, 8), (2462, 8), (2463, 8), (2464, 7), (2465, 7), (2466, 7), (2467, 8), (2468, 8), (2469, 8), (2470, 8), (2471, 8), (2472, 7), (2473, 8), (2474, 8), (2475, 7), (2476, 8), (2477, 7), (2478, 8), (2479, 8), (2480, 7), (2481, 7), (2482, 8), (2483, 8), (2484, 8), (2486, 8), (2488, 8), (2490, 8), (6324, 8), (6325, 8), (6326, 8), (6327, 7), (6328, 7), (6329, 8), (6330, 7)]}\n",
      "23 {2: [(3795, 7), (3811, 8), (3835, 7), (5884, 8), (5885, 7), (5886, 8), (5887, 8), (5888, 7), (5889, 8), (5890, 8), (5892, 8), (5893, 8), (5894, 8), (5895, 7), (5896, 8), (5898, 7), (5899, 8), (5900, 8), (5901, 7), (5903, 7), (5904, 7), (5905, 7), (5906, 8), (5907, 7), (5908, 8), (5909, 8), (5910, 8), (5912, 8), (5913, 8), (5914, 8), (5916, 8), (5918, 8), (5920, 8), (5921, 8), (5922, 8), (5926, 8), (5930, 8), (5932, 8), (5935, 8), (5936, 8), (5937, 8), (5948, 8), (5956, 8), (5957, 8), (5970, 8), (5971, 7), (5972, 7), (5973, 8), (5974, 8), (5976, 8), (5979, 8), (5983, 8)], 7: [(6979, 7)]}\n",
      "8 {5: [(6109, 8), (6112, 6), (6113, 8), (6114, 8), (6117, 7), (6119, 7), (6121, 8), (6122, 8), (6123, 7), (6124, 6), (6125, 5), (6126, 7)]}\n",
      "20 {9: [(8060, 8), (8061, 7), (8062, 6), (8063, 8), (8064, 6), (8065, 8), (8066, 6), (8067, 6), (8068, 6), (8069, 6), (8070, 6), (8071, 6), (8072, 6), (8073, 6), (8074, 6), (8075, 8)], 8: [(8091, 8), (8104, 8), (8106, 8), (8107, 8)]}\n",
      "21 {3: [(8124, 8)]}\n",
      "6 {2: [(8153, 8)]}\n"
     ]
    }
   ],
   "source": [
    "# for episode_number, frames in similar_frames.items():\n",
    "#     print(episode_number,frames)"
   ]
  },
  {
   "cell_type": "code",
   "execution_count": null,
   "metadata": {},
   "outputs": [
    {
     "data": {
      "image/png": "[encoded data removed]",
      "text/plain": [
       "<Figure size 640x480 with 1 Axes>"
      ]
     },
     "metadata": {},
     "output_type": "display_data"
    }
   ],
   "source": [
    "# # plot how many frames were similar for each episode\n",
    "# import matplotlib.pyplot as plt\n",
    "# import seaborn as sns\n",
    "# sns.set_theme()\n",
    "# for episode_number, frames_dict in similar_frames.items():\n",
    "#     plt.plot([len(frames) for frames in frames_dict.values()], label=f\"Episode {episode_number}\")\n"
   ]
  },
  {
   "cell_type": "code",
   "execution_count": null,
   "metadata": {},
   "outputs": [
    {
     "data": {
      "text/plain": [
       "{12: [(150, 8),\n",
       "  (151, 8),\n",
       "  (152, 7),\n",
       "  (153, 7),\n",
       "  (154, 6),\n",
       "  (155, 8),\n",
       "  (156, 8),\n",
       "  (157, 8),\n",
       "  (489, 8),\n",
       "  (6864, 8),\n",
       "  (6931, 7),\n",
       "  (6935, 8),\n",
       "  (6937, 8),\n",
       "  (6941, 8),\n",
       "  (7204, 7),\n",
       "  (7444, 7)]}"
      ]
     },
     "execution_count": 88,
     "metadata": {},
     "output_type": "execute_result"
    }
   ],
   "source": [
    "# similar_frames['2']"
   ]
  },
  {
   "cell_type": "code",
   "execution_count": null,
   "metadata": {},
   "outputs": [
    {
     "name": "stdout",
     "output_type": "stream",
     "text": [
      "19 3 [(64, 8), (66, 8), (68, 8), (70, 8), (71, 7), (72, 7), (73, 6), (74, 6), (75, 6), (76, 8), (77, 6)]\n",
      "9 4 [(69, 8), (86, 8), (87, 8)]\n",
      "11 1 [(86, 8), (87, 8), (92, 8), (97, 7), (99, 8), (3309, 8), (6939, 8), (6942, 8)]\n",
      "2 12 [(150, 8), (151, 8), (152, 7), (153, 7), (154, 6), (155, 8), (156, 8), (157, 8), (489, 8), (6864, 8), (6931, 7), (6935, 8), (6937, 8), (6941, 8), (7204, 7), (7444, 7)]\n",
      "7 9 [(2331, 8), (2333, 8), (2334, 8), (2335, 8), (2336, 8), (2338, 8), (2340, 8), (2341, 8), (2342, 7), (2343, 7), (2344, 8), (2345, 7), (2346, 7), (2347, 7), (2348, 8), (2350, 8), (2352, 8), (2353, 8), (2354, 8), (2355, 8), (2356, 8), (2357, 8), (2358, 8), (2359, 8), (2360, 8), (2361, 8), (2362, 8), (2363, 8), (2364, 8), (2365, 8), (2379, 8), (2380, 8), (2381, 8), (2384, 8), (2385, 8), (2386, 8), (2387, 8), (2388, 8), (2389, 8), (2390, 8), (2391, 8), (2392, 8), (2393, 8), (2394, 8), (2395, 8), (2396, 8), (2397, 8), (2398, 8), (2399, 8), (2400, 8), (2401, 8), (2402, 8), (2403, 8), (2404, 8), (2405, 8), (2406, 8), (2407, 7), (2408, 7), (2409, 8), (2410, 8), (2411, 8), (2412, 8), (2413, 8), (2414, 8), (2415, 8), (2418, 8), (2419, 8), (2420, 8), (2425, 8), (2426, 8), (2427, 8), (2428, 8), (2429, 8), (2430, 8), (2431, 8), (2432, 8), (2434, 8), (2435, 8), (2436, 8), (2437, 8), (2438, 8), (2439, 8), (2440, 8), (2441, 8), (2442, 8), (2443, 7), (2444, 8), (2445, 8), (2446, 8), (2447, 8), (2448, 8), (2449, 7), (2450, 8), (2451, 8), (2452, 8), (2453, 8), (2454, 8), (2455, 8), (2456, 8), (2457, 8), (2458, 8), (2459, 8), (2460, 8), (2461, 8), (2462, 8), (2463, 8), (2464, 7), (2465, 7), (2466, 7), (2467, 8), (2468, 8), (2469, 8), (2470, 8), (2471, 8), (2472, 7), (2473, 8), (2474, 8), (2475, 7), (2476, 8), (2477, 7), (2478, 8), (2479, 8), (2480, 7), (2481, 7), (2482, 8), (2483, 8), (2484, 8), (2486, 8), (2488, 8), (2490, 8), (6324, 8), (6325, 8), (6326, 8), (6327, 7), (6328, 7), (6329, 8), (6330, 7)]\n",
      "23 2 [(3795, 7), (3811, 8), (3835, 7), (5884, 8), (5885, 7), (5886, 8), (5887, 8), (5888, 7), (5889, 8), (5890, 8), (5892, 8), (5893, 8), (5894, 8), (5895, 7), (5896, 8), (5898, 7), (5899, 8), (5900, 8), (5901, 7), (5903, 7), (5904, 7), (5905, 7), (5906, 8), (5907, 7), (5908, 8), (5909, 8), (5910, 8), (5912, 8), (5913, 8), (5914, 8), (5916, 8), (5918, 8), (5920, 8), (5921, 8), (5922, 8), (5926, 8), (5930, 8), (5932, 8), (5935, 8), (5936, 8), (5937, 8), (5948, 8), (5956, 8), (5957, 8), (5970, 8), (5971, 7), (5972, 7), (5973, 8), (5974, 8), (5976, 8), (5979, 8), (5983, 8)]\n",
      "8 5 [(6109, 8), (6112, 6), (6113, 8), (6114, 8), (6117, 7), (6119, 7), (6121, 8), (6122, 8), (6123, 7), (6124, 6), (6125, 5), (6126, 7)]\n",
      "20 9 [(8060, 8), (8061, 7), (8062, 6), (8063, 8), (8064, 6), (8065, 8), (8066, 6), (8067, 6), (8068, 6), (8069, 6), (8070, 6), (8071, 6), (8072, 6), (8073, 6), (8074, 6), (8075, 8)]\n",
      "21 3 [(8124, 8)]\n",
      "6 2 [(8153, 8)]\n"
     ]
    }
   ],
   "source": [
    "# # make a scatter plot with the epsiode number on the x axis and the distance on the y axis\n",
    "# for episode_number, frames_dict in similar_frames.items():\n",
    "#     for frame_number, distance in frames_dict.items():\n",
    "#         print(episode_number, frame_number, distance)\n",
    "#         break\n",
    "#         #plt.scatter(episode_number, distance, label=f\"Episode {episode_number}\")\n",
    "# # plt.xlabel(\"Episode Number\")"
   ]
  },
  {
   "cell_type": "code",
   "execution_count": null,
   "metadata": {},
   "outputs": [],
   "source": [
    "# import cv2\n",
    "# import numpy as np\n",
    "\n",
    "# def average_hash(image, hash_size=8, mean=np.mean):\n",
    "#     if hash_size < 2:\n",
    "#         raise ValueError('Hash size must be greater than or equal to 2')\n",
    "\n",
    "#     # Convert the image to grayscale and resize it\n",
    "#     gray_image = cv2.cvtColor(np.array(image), cv2.COLOR_RGB2GRAY)\n",
    "#     resized_image = cv2.resize(gray_image, (hash_size, hash_size))\n",
    "\n",
    "#     # Find the average pixel value\n",
    "#     avg = mean(resized_image)\n",
    "\n",
    "#     # Create string of bits\n",
    "#     diff = resized_image > avg\n",
    "\n",
    "#     # Make a hash\n",
    "#     return ImageHash(diff)\n"
   ]
  },
  {
   "cell_type": "code",
   "execution_count": null,
   "metadata": {},
   "outputs": [
    {
     "name": "stderr",
     "output_type": "stream",
     "text": [
      "  0%|          | 0/100 [00:00<?, ?it/s]"
     ]
    },
    {
     "name": "stderr",
     "output_type": "stream",
     "text": [
      "100%|██████████| 100/100 [00:00<00:00, 110.95it/s]\n"
     ]
    }
   ],
   "source": [
    "# # Open the .mkv file and extract frames for the first 5 minutes\n",
    "# cap = cv.VideoCapture(mkv_file)\n",
    "# frames = []\n",
    "# hashes = []\n",
    "# frame_count = 0\n",
    "# # Initiate SIFT detector\n",
    "# sift = cv.SIFT_create()\n",
    "# for frame in tqdm(range(0,1000,10)):\n",
    "#     success, frame = cap.read()\n",
    "#     if not success:\n",
    "#         break\n",
    "#     hash = average_hash(frame)\n",
    "# cap.release()"
   ]
  },
  {
   "cell_type": "code",
   "execution_count": null,
   "metadata": {},
   "outputs": [
    {
     "data": {
      "text/plain": [
       "array([[False, False,  True,  True, False,  True,  True, False],\n",
       "       [False, False,  True,  True,  True,  True,  True, False],\n",
       "       [False, False,  True,  True,  True,  True,  True, False],\n",
       "       [False, False, False,  True,  True, False,  True, False],\n",
       "       [False, False,  True, False,  True,  True,  True, False],\n",
       "       [False, False, False, False, False, False, False, False],\n",
       "       [False, False, False, False, False, False, False, False],\n",
       "       [False, False, False, False, False, False, False, False]])"
      ]
     },
     "execution_count": 64,
     "metadata": {},
     "output_type": "execute_result"
    }
   ],
   "source": [
    "# hash"
   ]
  },
  {
   "cell_type": "code",
   "execution_count": null,
   "metadata": {},
   "outputs": [
    {
     "data": {
      "text/plain": [
       "'363e3e1a2e000000'"
      ]
     },
     "execution_count": 67,
     "metadata": {},
     "output_type": "execute_result"
    }
   ],
   "source": [
    "str(hash)"
   ]
  }
 ],
 "metadata": {
  "kernelspec": {
   "display_name": "mkv",
   "language": "python",
   "name": "python3"
  },
  "language_info": {
   "codemirror_mode": {
    "name": "ipython",
    "version": 3
   },
   "file_extension": ".py",
   "mimetype": "text/x-python",
   "name": "python",
   "nbconvert_exporter": "python",
   "pygments_lexer": "ipython3",
   "version": "3.12.1"
  }
 },
 "nbformat": 4,
 "nbformat_minor": 2
}
